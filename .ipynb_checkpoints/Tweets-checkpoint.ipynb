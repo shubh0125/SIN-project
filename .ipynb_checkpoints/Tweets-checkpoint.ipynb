{
 "cells": [
  {
   "cell_type": "markdown",
   "metadata": {
    "id": "8A0KyguaKxV7"
   },
   "source": [
    "Name: Shubh Almal [19BCE2130]\n"
   ]
  },
  {
   "cell_type": "code",
   "execution_count": 1,
   "metadata": {
    "colab": {
     "base_uri": "https://localhost:8080/"
    },
    "id": "EbgNNGDqHJZv",
    "outputId": "46e877ff-ffe0-4e6b-b769-62fe6352f39f"
   },
   "outputs": [
    {
     "name": "stderr",
     "output_type": "stream",
     "text": [
      "[nltk_data] Downloading package stopwords to\n",
      "[nltk_data]     C:\\Users\\shubh\\AppData\\Roaming\\nltk_data...\n",
      "[nltk_data]   Package stopwords is already up-to-date!\n"
     ]
    }
   ],
   "source": [
    "import numpy as np\n",
    "import pandas as pd\n",
    "import re\n",
    "import nltk\n",
    "nltk.download('stopwords')\n",
    "import matplotlib.pyplot as plt\n",
    "%matplotlib inline"
   ]
  },
  {
   "cell_type": "code",
   "execution_count": 2,
   "metadata": {
    "id": "qOaCJKaVIpgm"
   },
   "outputs": [],
   "source": [
    "import seaborn as sns"
   ]
  },
  {
   "cell_type": "code",
   "execution_count": 3,
   "metadata": {
    "colab": {
     "base_uri": "https://localhost:8080/"
    },
    "id": "qJK97GthJWQM",
    "outputId": "4669a6b1-7052-4bb6-e5a5-2242efc1b3e4"
   },
   "outputs": [
    {
     "name": "stdout",
     "output_type": "stream",
     "text": [
      "Collecting emoji\n",
      "  Downloading emoji-1.6.3.tar.gz (174 kB)\n",
      "Building wheels for collected packages: emoji\n",
      "  Building wheel for emoji (setup.py): started\n",
      "  Building wheel for emoji (setup.py): finished with status 'done'\n",
      "  Created wheel for emoji: filename=emoji-1.6.3-py3-none-any.whl size=170280 sha256=80ea509037b561da9e9b67d86959bb2e5bd4a91de024ab4b1649a05a3cbde255\n",
      "  Stored in directory: c:\\users\\shubh\\appdata\\local\\pip\\cache\\wheels\\7d\\09\\45\\1ad33b3ac1e05d07355a3c81fe56c89837774fdb6665574765\n",
      "Successfully built emoji\n",
      "Installing collected packages: emoji\n",
      "Successfully installed emoji-1.6.3\n"
     ]
    }
   ],
   "source": [
    "!pip install emoji\n",
    "import emoji\n",
    "import tensorflow as tf\n",
    "from nltk.stem import PorterStemmer\n",
    "from tensorflow.keras.preprocessing.text import Tokenizer\n",
    "from tensorflow.keras.preprocessing.sequence import pad_sequences\n",
    "from sklearn.model_selection import train_test_split"
   ]
  },
  {
   "cell_type": "code",
   "execution_count": 6,
   "metadata": {
    "id": "9_C3RfGjrc0F"
   },
   "outputs": [],
   "source": [
    "import io\n",
    "airline_tweets = pd.read_csv('Tweets.csv')"
   ]
  },
  {
   "cell_type": "code",
   "execution_count": 7,
   "metadata": {
    "colab": {
     "base_uri": "https://localhost:8080/",
     "height": 452
    },
    "id": "LBBDs5rdLqV6",
    "outputId": "a4dc03c1-0e2b-43ff-d0a2-5e654976334d"
   },
   "outputs": [
    {
     "data": {
      "text/html": [
       "<div>\n",
       "<style scoped>\n",
       "    .dataframe tbody tr th:only-of-type {\n",
       "        vertical-align: middle;\n",
       "    }\n",
       "\n",
       "    .dataframe tbody tr th {\n",
       "        vertical-align: top;\n",
       "    }\n",
       "\n",
       "    .dataframe thead th {\n",
       "        text-align: right;\n",
       "    }\n",
       "</style>\n",
       "<table border=\"1\" class=\"dataframe\">\n",
       "  <thead>\n",
       "    <tr style=\"text-align: right;\">\n",
       "      <th></th>\n",
       "      <th>tweet_id</th>\n",
       "      <th>airline_sentiment</th>\n",
       "      <th>airline_sentiment_confidence</th>\n",
       "      <th>negativereason</th>\n",
       "      <th>negativereason_confidence</th>\n",
       "      <th>airline</th>\n",
       "      <th>airline_sentiment_gold</th>\n",
       "      <th>name</th>\n",
       "      <th>negativereason_gold</th>\n",
       "      <th>retweet_count</th>\n",
       "      <th>text</th>\n",
       "      <th>tweet_coord</th>\n",
       "      <th>tweet_created</th>\n",
       "      <th>tweet_location</th>\n",
       "      <th>user_timezone</th>\n",
       "    </tr>\n",
       "  </thead>\n",
       "  <tbody>\n",
       "    <tr>\n",
       "      <th>0</th>\n",
       "      <td>570306133677760513</td>\n",
       "      <td>neutral</td>\n",
       "      <td>1.0000</td>\n",
       "      <td>NaN</td>\n",
       "      <td>NaN</td>\n",
       "      <td>Virgin America</td>\n",
       "      <td>NaN</td>\n",
       "      <td>cairdin</td>\n",
       "      <td>NaN</td>\n",
       "      <td>0</td>\n",
       "      <td>@VirginAmerica What @dhepburn said.</td>\n",
       "      <td>NaN</td>\n",
       "      <td>2015-02-24 11:35:52 -0800</td>\n",
       "      <td>NaN</td>\n",
       "      <td>Eastern Time (US &amp; Canada)</td>\n",
       "    </tr>\n",
       "    <tr>\n",
       "      <th>1</th>\n",
       "      <td>570301130888122368</td>\n",
       "      <td>positive</td>\n",
       "      <td>0.3486</td>\n",
       "      <td>NaN</td>\n",
       "      <td>0.0000</td>\n",
       "      <td>Virgin America</td>\n",
       "      <td>NaN</td>\n",
       "      <td>jnardino</td>\n",
       "      <td>NaN</td>\n",
       "      <td>0</td>\n",
       "      <td>@VirginAmerica plus you've added commercials t...</td>\n",
       "      <td>NaN</td>\n",
       "      <td>2015-02-24 11:15:59 -0800</td>\n",
       "      <td>NaN</td>\n",
       "      <td>Pacific Time (US &amp; Canada)</td>\n",
       "    </tr>\n",
       "    <tr>\n",
       "      <th>2</th>\n",
       "      <td>570301083672813571</td>\n",
       "      <td>neutral</td>\n",
       "      <td>0.6837</td>\n",
       "      <td>NaN</td>\n",
       "      <td>NaN</td>\n",
       "      <td>Virgin America</td>\n",
       "      <td>NaN</td>\n",
       "      <td>yvonnalynn</td>\n",
       "      <td>NaN</td>\n",
       "      <td>0</td>\n",
       "      <td>@VirginAmerica I didn't today... Must mean I n...</td>\n",
       "      <td>NaN</td>\n",
       "      <td>2015-02-24 11:15:48 -0800</td>\n",
       "      <td>Lets Play</td>\n",
       "      <td>Central Time (US &amp; Canada)</td>\n",
       "    </tr>\n",
       "    <tr>\n",
       "      <th>3</th>\n",
       "      <td>570301031407624196</td>\n",
       "      <td>negative</td>\n",
       "      <td>1.0000</td>\n",
       "      <td>Bad Flight</td>\n",
       "      <td>0.7033</td>\n",
       "      <td>Virgin America</td>\n",
       "      <td>NaN</td>\n",
       "      <td>jnardino</td>\n",
       "      <td>NaN</td>\n",
       "      <td>0</td>\n",
       "      <td>@VirginAmerica it's really aggressive to blast...</td>\n",
       "      <td>NaN</td>\n",
       "      <td>2015-02-24 11:15:36 -0800</td>\n",
       "      <td>NaN</td>\n",
       "      <td>Pacific Time (US &amp; Canada)</td>\n",
       "    </tr>\n",
       "    <tr>\n",
       "      <th>4</th>\n",
       "      <td>570300817074462722</td>\n",
       "      <td>negative</td>\n",
       "      <td>1.0000</td>\n",
       "      <td>Can't Tell</td>\n",
       "      <td>1.0000</td>\n",
       "      <td>Virgin America</td>\n",
       "      <td>NaN</td>\n",
       "      <td>jnardino</td>\n",
       "      <td>NaN</td>\n",
       "      <td>0</td>\n",
       "      <td>@VirginAmerica and it's a really big bad thing...</td>\n",
       "      <td>NaN</td>\n",
       "      <td>2015-02-24 11:14:45 -0800</td>\n",
       "      <td>NaN</td>\n",
       "      <td>Pacific Time (US &amp; Canada)</td>\n",
       "    </tr>\n",
       "  </tbody>\n",
       "</table>\n",
       "</div>"
      ],
      "text/plain": [
       "             tweet_id airline_sentiment  airline_sentiment_confidence  \\\n",
       "0  570306133677760513           neutral                        1.0000   \n",
       "1  570301130888122368          positive                        0.3486   \n",
       "2  570301083672813571           neutral                        0.6837   \n",
       "3  570301031407624196          negative                        1.0000   \n",
       "4  570300817074462722          negative                        1.0000   \n",
       "\n",
       "  negativereason  negativereason_confidence         airline  \\\n",
       "0            NaN                        NaN  Virgin America   \n",
       "1            NaN                     0.0000  Virgin America   \n",
       "2            NaN                        NaN  Virgin America   \n",
       "3     Bad Flight                     0.7033  Virgin America   \n",
       "4     Can't Tell                     1.0000  Virgin America   \n",
       "\n",
       "  airline_sentiment_gold        name negativereason_gold  retweet_count  \\\n",
       "0                    NaN     cairdin                 NaN              0   \n",
       "1                    NaN    jnardino                 NaN              0   \n",
       "2                    NaN  yvonnalynn                 NaN              0   \n",
       "3                    NaN    jnardino                 NaN              0   \n",
       "4                    NaN    jnardino                 NaN              0   \n",
       "\n",
       "                                                text tweet_coord  \\\n",
       "0                @VirginAmerica What @dhepburn said.         NaN   \n",
       "1  @VirginAmerica plus you've added commercials t...         NaN   \n",
       "2  @VirginAmerica I didn't today... Must mean I n...         NaN   \n",
       "3  @VirginAmerica it's really aggressive to blast...         NaN   \n",
       "4  @VirginAmerica and it's a really big bad thing...         NaN   \n",
       "\n",
       "               tweet_created tweet_location               user_timezone  \n",
       "0  2015-02-24 11:35:52 -0800            NaN  Eastern Time (US & Canada)  \n",
       "1  2015-02-24 11:15:59 -0800            NaN  Pacific Time (US & Canada)  \n",
       "2  2015-02-24 11:15:48 -0800      Lets Play  Central Time (US & Canada)  \n",
       "3  2015-02-24 11:15:36 -0800            NaN  Pacific Time (US & Canada)  \n",
       "4  2015-02-24 11:14:45 -0800            NaN  Pacific Time (US & Canada)  "
      ]
     },
     "execution_count": 7,
     "metadata": {},
     "output_type": "execute_result"
    }
   ],
   "source": [
    "airline_tweets = pd.read_csv('Tweets.csv')\n",
    "airline_tweets.head()"
   ]
  },
  {
   "cell_type": "code",
   "execution_count": 8,
   "metadata": {
    "id": "cCLc22jgLzyT"
   },
   "outputs": [],
   "source": [
    "confidence_threshold = 0.6\n",
    "airline_tweets = airline_tweets.drop(airline_tweets.query(\"airline_sentiment_confidence < @confidence_threshold\").index, axis=0).reset_index(drop=True)"
   ]
  },
  {
   "cell_type": "code",
   "execution_count": 9,
   "metadata": {
    "colab": {
     "base_uri": "https://localhost:8080/",
     "height": 424
    },
    "id": "yRkzXAIvNJ0z",
    "outputId": "8e1bb2d7-425d-431b-b011-05138c37b3c2"
   },
   "outputs": [
    {
     "data": {
      "text/html": [
       "<div>\n",
       "<style scoped>\n",
       "    .dataframe tbody tr th:only-of-type {\n",
       "        vertical-align: middle;\n",
       "    }\n",
       "\n",
       "    .dataframe tbody tr th {\n",
       "        vertical-align: top;\n",
       "    }\n",
       "\n",
       "    .dataframe thead th {\n",
       "        text-align: right;\n",
       "    }\n",
       "</style>\n",
       "<table border=\"1\" class=\"dataframe\">\n",
       "  <thead>\n",
       "    <tr style=\"text-align: right;\">\n",
       "      <th></th>\n",
       "      <th>text</th>\n",
       "      <th>airline_sentiment</th>\n",
       "    </tr>\n",
       "  </thead>\n",
       "  <tbody>\n",
       "    <tr>\n",
       "      <th>0</th>\n",
       "      <td>@VirginAmerica What @dhepburn said.</td>\n",
       "      <td>neutral</td>\n",
       "    </tr>\n",
       "    <tr>\n",
       "      <th>1</th>\n",
       "      <td>@VirginAmerica I didn't today... Must mean I n...</td>\n",
       "      <td>neutral</td>\n",
       "    </tr>\n",
       "    <tr>\n",
       "      <th>2</th>\n",
       "      <td>@VirginAmerica it's really aggressive to blast...</td>\n",
       "      <td>negative</td>\n",
       "    </tr>\n",
       "    <tr>\n",
       "      <th>3</th>\n",
       "      <td>@VirginAmerica and it's a really big bad thing...</td>\n",
       "      <td>negative</td>\n",
       "    </tr>\n",
       "    <tr>\n",
       "      <th>4</th>\n",
       "      <td>@VirginAmerica seriously would pay $30 a fligh...</td>\n",
       "      <td>negative</td>\n",
       "    </tr>\n",
       "    <tr>\n",
       "      <th>...</th>\n",
       "      <td>...</td>\n",
       "      <td>...</td>\n",
       "    </tr>\n",
       "    <tr>\n",
       "      <th>14397</th>\n",
       "      <td>@AmericanAir right on cue with the delays👌</td>\n",
       "      <td>negative</td>\n",
       "    </tr>\n",
       "    <tr>\n",
       "      <th>14398</th>\n",
       "      <td>@AmericanAir leaving over 20 minutes Late Flig...</td>\n",
       "      <td>negative</td>\n",
       "    </tr>\n",
       "    <tr>\n",
       "      <th>14399</th>\n",
       "      <td>@AmericanAir Please bring American Airlines to...</td>\n",
       "      <td>neutral</td>\n",
       "    </tr>\n",
       "    <tr>\n",
       "      <th>14400</th>\n",
       "      <td>@AmericanAir you have my money, you change my ...</td>\n",
       "      <td>negative</td>\n",
       "    </tr>\n",
       "    <tr>\n",
       "      <th>14401</th>\n",
       "      <td>@AmericanAir we have 8 ppl so we need 2 know h...</td>\n",
       "      <td>neutral</td>\n",
       "    </tr>\n",
       "  </tbody>\n",
       "</table>\n",
       "<p>14402 rows × 2 columns</p>\n",
       "</div>"
      ],
      "text/plain": [
       "                                                    text airline_sentiment\n",
       "0                    @VirginAmerica What @dhepburn said.           neutral\n",
       "1      @VirginAmerica I didn't today... Must mean I n...           neutral\n",
       "2      @VirginAmerica it's really aggressive to blast...          negative\n",
       "3      @VirginAmerica and it's a really big bad thing...          negative\n",
       "4      @VirginAmerica seriously would pay $30 a fligh...          negative\n",
       "...                                                  ...               ...\n",
       "14397         @AmericanAir right on cue with the delays👌          negative\n",
       "14398  @AmericanAir leaving over 20 minutes Late Flig...          negative\n",
       "14399  @AmericanAir Please bring American Airlines to...           neutral\n",
       "14400  @AmericanAir you have my money, you change my ...          negative\n",
       "14401  @AmericanAir we have 8 ppl so we need 2 know h...           neutral\n",
       "\n",
       "[14402 rows x 2 columns]"
      ]
     },
     "execution_count": 9,
     "metadata": {},
     "output_type": "execute_result"
    }
   ],
   "source": [
    "tweets_df = pd.concat([airline_tweets['text'], airline_tweets['airline_sentiment']], axis=1)\n",
    "tweets_df"
   ]
  },
  {
   "cell_type": "code",
   "execution_count": 10,
   "metadata": {
    "colab": {
     "base_uri": "https://localhost:8080/"
    },
    "id": "ZN_y7plxNTC1",
    "outputId": "f4f5cdb5-2aa2-4cc1-9125-b805bc745b83"
   },
   "outputs": [
    {
     "data": {
      "text/plain": [
       "0"
      ]
     },
     "execution_count": 10,
     "metadata": {},
     "output_type": "execute_result"
    }
   ],
   "source": [
    "tweets_df.isna().sum().sum()"
   ]
  },
  {
   "cell_type": "code",
   "execution_count": 11,
   "metadata": {
    "colab": {
     "base_uri": "https://localhost:8080/"
    },
    "id": "O1t8TikWNW8A",
    "outputId": "67a8b9a3-536c-451d-d533-6a2714de9e90"
   },
   "outputs": [
    {
     "data": {
      "text/plain": [
       "negative    9113\n",
       "neutral     2997\n",
       "positive    2292\n",
       "Name: airline_sentiment, dtype: int64"
      ]
     },
     "execution_count": 11,
     "metadata": {},
     "output_type": "execute_result"
    }
   ],
   "source": [
    "tweets_df['airline_sentiment'].value_counts()"
   ]
  },
  {
   "cell_type": "code",
   "execution_count": 12,
   "metadata": {
    "id": "jQ74ugtQNdWz"
   },
   "outputs": [],
   "source": [
    "sentiment_ordering = ['negative', 'neutral', 'positive']\n",
    "\n",
    "tweets_df['airline_sentiment'] = tweets_df['airline_sentiment'].apply(lambda x: sentiment_ordering.index(x))"
   ]
  },
  {
   "cell_type": "code",
   "execution_count": 13,
   "metadata": {
    "colab": {
     "base_uri": "https://localhost:8080/",
     "height": 35
    },
    "id": "AYOmavm8Nrte",
    "outputId": "2a10f21b-7022-40b3-d162-6f84a892493e"
   },
   "outputs": [
    {
     "data": {
      "text/plain": [
       "'@AmericanAir right on cue with the delays:OK_hand:'"
      ]
     },
     "execution_count": 13,
     "metadata": {},
     "output_type": "execute_result"
    }
   ],
   "source": [
    "emoji.demojize('@AmericanAir right on cue with the delays👌')"
   ]
  },
  {
   "cell_type": "code",
   "execution_count": 14,
   "metadata": {
    "colab": {
     "base_uri": "https://localhost:8080/",
     "height": 35
    },
    "id": "WFglEIQWNy9B",
    "outputId": "71ae8100-251d-46ca-b7f3-1a4c657ce7e2"
   },
   "outputs": [
    {
     "data": {
      "text/plain": [
       "'eat'"
      ]
     },
     "execution_count": 14,
     "metadata": {},
     "output_type": "execute_result"
    }
   ],
   "source": [
    "ps = PorterStemmer()\n",
    "ps.stem('eating')"
   ]
  },
  {
   "cell_type": "code",
   "execution_count": 15,
   "metadata": {
    "id": "RmHwFTiMN_lc"
   },
   "outputs": [],
   "source": [
    "def process_tweet(tweet):\n",
    "    new_tweet = tweet.lower()\n",
    "    new_tweet = re.sub(r'@\\w+', '', new_tweet) # Remove @s\n",
    "    new_tweet = re.sub(r'#', '', new_tweet) # Remove hashtags\n",
    "    new_tweet = re.sub(r':', ' ', emoji.demojize(new_tweet)) # Turn emojis into words\n",
    "    new_tweet = re.sub(r'http\\S+', '',new_tweet) # Remove URLs\n",
    "    new_tweet = re.sub(r'\\$\\S+', 'dollar', new_tweet) # Change dollar amounts to dollar\n",
    "    new_tweet = re.sub(r'[^a-z0-9\\s]', '', new_tweet) # Remove punctuation\n",
    "    new_tweet = re.sub(r'[0-9]+', 'number', new_tweet) # Change number values to number\n",
    "    new_tweet = new_tweet.split(\" \")\n",
    "    new_tweet = list(map(lambda x: ps.stem(x), new_tweet)) # Stemming the words\n",
    "    new_tweet = list(map(lambda x: x.strip(), new_tweet)) # Stripping whitespace from the words\n",
    "    if '' in new_tweet:\n",
    "        new_tweet.remove('')\n",
    "    return new_tweet\n"
   ]
  },
  {
   "cell_type": "code",
   "execution_count": 16,
   "metadata": {
    "id": "qWLNlCJbOPPN"
   },
   "outputs": [],
   "source": [
    "tweets = tweets_df['text'].apply(process_tweet)\n",
    "\n",
    "labels = np.array(tweets_df['airline_sentiment'])"
   ]
  },
  {
   "cell_type": "code",
   "execution_count": 17,
   "metadata": {
    "colab": {
     "base_uri": "https://localhost:8080/"
    },
    "id": "OnhUaqKKOV8G",
    "outputId": "1b6bff23-8839-467f-96a8-92898206b60f"
   },
   "outputs": [
    {
     "data": {
      "text/plain": [
       "0                                           [what, , said]\n",
       "1        [i, didnt, today, must, mean, i, need, to, tak...\n",
       "2        [it, realli, aggress, to, blast, obnoxi, enter...\n",
       "3         [and, it, a, realli, big, bad, thing, about, it]\n",
       "4        [serious, would, pay, dollar, a, flight, for, ...\n",
       "                               ...                        \n",
       "14397           [right, on, cue, with, the, delay, hand, ]\n",
       "14398    [leav, over, number, minut, late, flight, no, ...\n",
       "14399    [pleas, bring, american, airlin, to, blackberr...\n",
       "14400    [you, have, my, money, you, chang, my, flight,...\n",
       "14401    [we, have, number, ppl, so, we, need, number, ...\n",
       "Name: text, Length: 14402, dtype: object"
      ]
     },
     "execution_count": 17,
     "metadata": {},
     "output_type": "execute_result"
    }
   ],
   "source": [
    "tweets"
   ]
  },
  {
   "cell_type": "code",
   "execution_count": 18,
   "metadata": {
    "colab": {
     "base_uri": "https://localhost:8080/"
    },
    "id": "SaVCQuIUOZld",
    "outputId": "8220fba6-d052-4cc4-9d4f-dd5dc4cd3441"
   },
   "outputs": [
    {
     "name": "stdout",
     "output_type": "stream",
     "text": [
      "Vocab length: 11251\n",
      "Max sequence length: 90\n"
     ]
    }
   ],
   "source": [
    "vocabulary = set()\n",
    "\n",
    "for tweet in tweets:\n",
    "    for word in tweet:\n",
    "        if word not in vocabulary:\n",
    "            vocabulary.add(word)\n",
    "\n",
    "vocab_length = len(vocabulary)\n",
    "\n",
    "# Get max length of a sequence\n",
    "max_seq_length = 0\n",
    "\n",
    "for tweet in tweets:\n",
    "    if len(tweet) > max_seq_length:\n",
    "        max_seq_length = len(tweet)\n",
    "\n",
    "# Print results\n",
    "print(\"Vocab length:\", vocab_length)\n",
    "print(\"Max sequence length:\", max_seq_length)"
   ]
  },
  {
   "cell_type": "code",
   "execution_count": 19,
   "metadata": {
    "id": "po2CNv6LOnbx"
   },
   "outputs": [],
   "source": [
    "tokenizer = Tokenizer(num_words=vocab_length)\n",
    "tokenizer.fit_on_texts(tweets)\n",
    "\n",
    "sequences = tokenizer.texts_to_sequences(tweets)\n",
    "\n",
    "word_index = tokenizer.word_index\n",
    "\n",
    "model_inputs = pad_sequences(sequences, maxlen=max_seq_length, padding='post')"
   ]
  },
  {
   "cell_type": "code",
   "execution_count": 20,
   "metadata": {
    "colab": {
     "base_uri": "https://localhost:8080/"
    },
    "id": "FUa1zvFIOpwN",
    "outputId": "e93d89a1-18de-49f8-c5ad-50ffe62c9a2a"
   },
   "outputs": [
    {
     "data": {
      "text/plain": [
       "{'to': 1,\n",
       " '': 2,\n",
       " 'the': 3,\n",
       " 'number': 4,\n",
       " 'i': 5,\n",
       " 'flight': 6,\n",
       " 'a': 7,\n",
       " 'you': 8,\n",
       " 'for': 9,\n",
       " 'on': 10,\n",
       " 'and': 11,\n",
       " 'my': 12,\n",
       " 'is': 13,\n",
       " 'in': 14,\n",
       " 'it': 15,\n",
       " 'of': 16,\n",
       " 'your': 17,\n",
       " 'me': 18,\n",
       " 'have': 19,\n",
       " 'that': 20,\n",
       " 'thank': 21,\n",
       " 'get': 22,\n",
       " 'wa': 23,\n",
       " 'not': 24,\n",
       " 'with': 25,\n",
       " 'at': 26,\n",
       " 'no': 27,\n",
       " 'be': 28,\n",
       " 'thi': 29,\n",
       " 'but': 30,\n",
       " 'from': 31,\n",
       " 'hour': 32,\n",
       " 'http': 33,\n",
       " 'can': 34,\n",
       " 'are': 35,\n",
       " 'cancel': 36,\n",
       " 'we': 37,\n",
       " 'help': 38,\n",
       " 'now': 39,\n",
       " 'do': 40,\n",
       " 'servic': 41,\n",
       " 'an': 42,\n",
       " 'delay': 43,\n",
       " 'time': 44,\n",
       " 'just': 45,\n",
       " 'custom': 46,\n",
       " 'so': 47,\n",
       " 'been': 48,\n",
       " 'what': 49,\n",
       " 'will': 50,\n",
       " 'call': 51,\n",
       " 'im': 52,\n",
       " 'bag': 53,\n",
       " 'wait': 54,\n",
       " 'up': 55,\n",
       " 'plane': 56,\n",
       " 'out': 57,\n",
       " 'fli': 58,\n",
       " 'they': 59,\n",
       " 'our': 60,\n",
       " 'hold': 61,\n",
       " 'need': 62,\n",
       " 'us': 63,\n",
       " 'when': 64,\n",
       " 'how': 65,\n",
       " 'amp': 66,\n",
       " 'go': 67,\n",
       " 'there': 68,\n",
       " 'if': 69,\n",
       " 'all': 70,\n",
       " 'whi': 71,\n",
       " 'cant': 72,\n",
       " 'tri': 73,\n",
       " 'still': 74,\n",
       " 'one': 75,\n",
       " 'pleas': 76,\n",
       " 'airlin': 77,\n",
       " 'would': 78,\n",
       " 'day': 79,\n",
       " 'gate': 80,\n",
       " 'flightl': 81,\n",
       " 'back': 82,\n",
       " 'seat': 83,\n",
       " 'had': 84,\n",
       " 'about': 85,\n",
       " 'book': 86,\n",
       " 'dont': 87,\n",
       " 'ha': 88,\n",
       " 'or': 89,\n",
       " 'as': 90,\n",
       " 'make': 91,\n",
       " 'after': 92,\n",
       " 'chang': 93,\n",
       " 'got': 94,\n",
       " 'phone': 95,\n",
       " 'like': 96,\n",
       " 'am': 97,\n",
       " 'ani': 98,\n",
       " 'check': 99,\n",
       " 'late': 100,\n",
       " 'guy': 101,\n",
       " 'today': 102,\n",
       " 'agent': 103,\n",
       " 'work': 104,\n",
       " 'miss': 105,\n",
       " 'over': 106,\n",
       " 'by': 107,\n",
       " 'more': 108,\n",
       " 'dollar': 109,\n",
       " 'know': 110,\n",
       " 'ticket': 111,\n",
       " 'again': 112,\n",
       " 'take': 113,\n",
       " 'travel': 114,\n",
       " 'were': 115,\n",
       " 'airport': 116,\n",
       " 'way': 117,\n",
       " 'board': 118,\n",
       " 'minut': 119,\n",
       " 'ive': 120,\n",
       " 'great': 121,\n",
       " 'want': 122,\n",
       " 'onli': 123,\n",
       " 'then': 124,\n",
       " 'did': 125,\n",
       " 'u': 126,\n",
       " 'say': 127,\n",
       " 'even': 128,\n",
       " 'never': 129,\n",
       " 'should': 130,\n",
       " 'becaus': 131,\n",
       " 'connect': 132,\n",
       " 'last': 133,\n",
       " 'min': 134,\n",
       " 'problem': 135,\n",
       " 'weather': 136,\n",
       " 'tomorrow': 137,\n",
       " 'realli': 138,\n",
       " 'hr': 139,\n",
       " 'good': 140,\n",
       " 'home': 141,\n",
       " 'peopl': 142,\n",
       " 'off': 143,\n",
       " 'use': 144,\n",
       " 'issu': 145,\n",
       " 'love': 146,\n",
       " 'here': 147,\n",
       " 'email': 148,\n",
       " 'look': 149,\n",
       " 'see': 150,\n",
       " 'anoth': 151,\n",
       " 'let': 152,\n",
       " 'sit': 153,\n",
       " 'rebook': 154,\n",
       " 'new': 155,\n",
       " 'told': 156,\n",
       " 'luggag': 157,\n",
       " 'veri': 158,\n",
       " 'unit': 159,\n",
       " 'first': 160,\n",
       " 'reserv': 161,\n",
       " 'them': 162,\n",
       " 'dm': 163,\n",
       " 'than': 164,\n",
       " 'ever': 165,\n",
       " 'she': 166,\n",
       " 'crew': 167,\n",
       " 'lost': 168,\n",
       " 'due': 169,\n",
       " 'worst': 170,\n",
       " 'could': 171,\n",
       " 'someon': 172,\n",
       " 'hope': 173,\n",
       " 'give': 174,\n",
       " 'ye': 175,\n",
       " 'next': 176,\n",
       " 'too': 177,\n",
       " 'much': 178,\n",
       " 'trip': 179,\n",
       " 'other': 180,\n",
       " 'passeng': 181,\n",
       " 'baggag': 182,\n",
       " 'respons': 183,\n",
       " 'who': 184,\n",
       " 'tell': 185,\n",
       " 'two': 186,\n",
       " 'experi': 187,\n",
       " 'right': 188,\n",
       " 'made': 189,\n",
       " 'through': 190,\n",
       " 'didnt': 191,\n",
       " 'well': 192,\n",
       " 'befor': 193,\n",
       " 'line': 194,\n",
       " 'their': 195,\n",
       " 'aa': 196,\n",
       " 'leav': 197,\n",
       " 'onlin': 198,\n",
       " 'some': 199,\n",
       " 'follow': 200,\n",
       " 'week': 201,\n",
       " 'pay': 202,\n",
       " 'best': 203,\n",
       " 'come': 204,\n",
       " 'answer': 205,\n",
       " 'arriv': 206,\n",
       " 'her': 207,\n",
       " 'staff': 208,\n",
       " 'where': 209,\n",
       " 'wont': 210,\n",
       " 'doe': 211,\n",
       " 'sent': 212,\n",
       " 'bad': 213,\n",
       " 'keep': 214,\n",
       " 'updat': 215,\n",
       " 'sure': 216,\n",
       " 'better': 217,\n",
       " 'said': 218,\n",
       " 'long': 219,\n",
       " 'refund': 220,\n",
       " 'alreadi': 221,\n",
       " 'land': 222,\n",
       " 'doesnt': 223,\n",
       " 'left': 224,\n",
       " 'think': 225,\n",
       " 'sinc': 226,\n",
       " 'jfk': 227,\n",
       " 'ill': 228,\n",
       " 'hi': 229,\n",
       " 'find': 230,\n",
       " 'stuck': 231,\n",
       " 'he': 232,\n",
       " 'morn': 233,\n",
       " 'care': 234,\n",
       " 'ask': 235,\n",
       " 'uanumb': 236,\n",
       " 'happen': 237,\n",
       " 'busi': 238,\n",
       " 'into': 239,\n",
       " 'system': 240,\n",
       " 'mile': 241,\n",
       " 'flightr': 242,\n",
       " 'same': 243,\n",
       " 'websit': 244,\n",
       " 'tonight': 245,\n",
       " 'attend': 246,\n",
       " 'appreci': 247,\n",
       " 'hotel': 248,\n",
       " 'noth': 249,\n",
       " 'night': 250,\n",
       " 'put': 251,\n",
       " 'flt': 252,\n",
       " 'yet': 253,\n",
       " 'w': 254,\n",
       " 'jetblu': 255,\n",
       " 'show': 256,\n",
       " 'final': 257,\n",
       " 'dfw': 258,\n",
       " 'confirm': 259,\n",
       " 'offer': 260,\n",
       " 'info': 261,\n",
       " 'fail': 262,\n",
       " 'rude': 263,\n",
       " 'fleet': 264,\n",
       " 'fleek': 265,\n",
       " 'air': 266,\n",
       " 'pilot': 267,\n",
       " 'upgrad': 268,\n",
       " 'frustrat': 269,\n",
       " 'year': 270,\n",
       " 'disappoint': 271,\n",
       " 'credit': 272,\n",
       " 'charg': 273,\n",
       " 'talk': 274,\n",
       " 'nice': 275,\n",
       " 'fix': 276,\n",
       " 'person': 277,\n",
       " 'anyth': 278,\n",
       " 'numberhr': 279,\n",
       " 'down': 280,\n",
       " 'send': 281,\n",
       " 'avail': 282,\n",
       " 'numberpm': 283,\n",
       " 'also': 284,\n",
       " 'point': 285,\n",
       " 'rep': 286,\n",
       " 'voucher': 287,\n",
       " 'thing': 288,\n",
       " 'ago': 289,\n",
       " 'pass': 290,\n",
       " 'free': 291,\n",
       " 'start': 292,\n",
       " 'done': 293,\n",
       " 'foldedhand': 294,\n",
       " 'class': 295,\n",
       " 'awesom': 296,\n",
       " 'wifi': 297,\n",
       " 'employe': 298,\n",
       " 'option': 299,\n",
       " 'tweet': 300,\n",
       " 'contact': 301,\n",
       " 'lax': 302,\n",
       " 'abl': 303,\n",
       " 'understand': 304,\n",
       " 'receiv': 305,\n",
       " 'speak': 306,\n",
       " 'everi': 307,\n",
       " 'until': 308,\n",
       " 'open': 309,\n",
       " 'claim': 310,\n",
       " 'name': 311,\n",
       " 'fee': 312,\n",
       " 'anyon': 313,\n",
       " 'app': 314,\n",
       " 'differ': 315,\n",
       " 'terribl': 316,\n",
       " 'numberam': 317,\n",
       " 'phl': 318,\n",
       " 'alway': 319,\n",
       " 'id': 320,\n",
       " 'via': 321,\n",
       " 'team': 322,\n",
       " 'yesterday': 323,\n",
       " 'suck': 324,\n",
       " 'statu': 325,\n",
       " 'actual': 326,\n",
       " 'without': 327,\n",
       " 'couldnt': 328,\n",
       " 'suppos': 329,\n",
       " 'mani': 330,\n",
       " 'stop': 331,\n",
       " 'which': 332,\n",
       " 'isnt': 333,\n",
       " 'amaz': 334,\n",
       " 'havent': 335,\n",
       " 'numberst': 336,\n",
       " 'thx': 337,\n",
       " 'sorri': 338,\n",
       " 'seem': 339,\n",
       " 'bc': 340,\n",
       " 'plan': 341,\n",
       " 'dca': 342,\n",
       " 'departur': 343,\n",
       " 'instead': 344,\n",
       " 'return': 345,\n",
       " 'direct': 346,\n",
       " 'extra': 347,\n",
       " 'strand': 348,\n",
       " 'ok': 349,\n",
       " 'earli': 350,\n",
       " 'schedul': 351,\n",
       " 'sfo': 352,\n",
       " 'site': 353,\n",
       " 'almost': 354,\n",
       " 'mean': 355,\n",
       " 'deal': 356,\n",
       " 'friend': 357,\n",
       " 'kid': 358,\n",
       " 'happi': 359,\n",
       " 'reason': 360,\n",
       " 'money': 361,\n",
       " 'paid': 362,\n",
       " 'southwest': 363,\n",
       " 'allow': 364,\n",
       " 'lot': 365,\n",
       " 'ord': 366,\n",
       " 'earlier': 367,\n",
       " 'depart': 368,\n",
       " 'polici': 369,\n",
       " 'job': 370,\n",
       " 'wasnt': 371,\n",
       " 'ground': 372,\n",
       " 'though': 373,\n",
       " 'la': 374,\n",
       " 'card': 375,\n",
       " 'provid': 376,\n",
       " 'expect': 377,\n",
       " 'while': 378,\n",
       " 'took': 379,\n",
       " 'chanc': 380,\n",
       " 'compani': 381,\n",
       " 'clt': 382,\n",
       " 'move': 383,\n",
       " 'member': 384,\n",
       " 'hung': 385,\n",
       " 'unaccept': 386,\n",
       " 'respond': 387,\n",
       " 'ridicul': 388,\n",
       " 'airway': 389,\n",
       " 'add': 390,\n",
       " 'account': 391,\n",
       " 'messag': 392,\n",
       " 'famili': 393,\n",
       " 'everyon': 394,\n",
       " 'least': 395,\n",
       " 'wife': 396,\n",
       " 'repli': 397,\n",
       " 'full': 398,\n",
       " 'question': 399,\n",
       " 'apolog': 400,\n",
       " 'lose': 401,\n",
       " 'snow': 402,\n",
       " 'someth': 403,\n",
       " 'poor': 404,\n",
       " 'rt': 405,\n",
       " 'airplan': 406,\n",
       " 'vega': 407,\n",
       " 'yall': 408,\n",
       " 'boston': 409,\n",
       " 'mechan': 410,\n",
       " 'horribl': 411,\n",
       " 'destinationdragon': 412,\n",
       " 'dalla': 413,\n",
       " 'run': 414,\n",
       " 'month': 415,\n",
       " 'pick': 416,\n",
       " 'tarmac': 417,\n",
       " 'serious': 418,\n",
       " 'numberth': 419,\n",
       " 'assist': 420,\n",
       " 'chicago': 421,\n",
       " 'feel': 422,\n",
       " 'reschedul': 423,\n",
       " 'caus': 424,\n",
       " 'possibl': 425,\n",
       " 'request': 426,\n",
       " 'old': 427,\n",
       " 'denver': 428,\n",
       " 'vacat': 429,\n",
       " 'wrong': 430,\n",
       " 'twitter': 431,\n",
       " 'treat': 432,\n",
       " 'oh': 433,\n",
       " 'found': 434,\n",
       " 'american': 435,\n",
       " 'ur': 436,\n",
       " 'cost': 437,\n",
       " 'those': 438,\n",
       " 'most': 439,\n",
       " 'san': 440,\n",
       " 'desk': 441,\n",
       " 'inform': 442,\n",
       " 'hang': 443,\n",
       " 'ewr': 444,\n",
       " 'stay': 445,\n",
       " 'mayb': 446,\n",
       " 'might': 447,\n",
       " 'flightlat': 448,\n",
       " 'past': 449,\n",
       " 'aanumb': 450,\n",
       " 'bo': 451,\n",
       " 'far': 452,\n",
       " 'gave': 453,\n",
       " 'food': 454,\n",
       " 'complet': 455,\n",
       " 'link': 456,\n",
       " 'handl': 457,\n",
       " 'destin': 458,\n",
       " 'half': 459,\n",
       " 'big': 460,\n",
       " 'end': 461,\n",
       " 'both': 462,\n",
       " 'hey': 463,\n",
       " 'onc': 464,\n",
       " 'count': 465,\n",
       " 'away': 466,\n",
       " 'three': 467,\n",
       " 'complaint': 468,\n",
       " 'may': 469,\n",
       " 'went': 470,\n",
       " 'wonder': 471,\n",
       " 'price': 472,\n",
       " 'car': 473,\n",
       " 'enough': 474,\n",
       " 'hear': 475,\n",
       " 'littl': 476,\n",
       " 'row': 477,\n",
       " 'twice': 478,\n",
       " 'togeth': 479,\n",
       " 'intern': 480,\n",
       " 'broken': 481,\n",
       " 'current': 482,\n",
       " 'these': 483,\n",
       " 'aw': 484,\n",
       " 'compens': 485,\n",
       " 'nyc': 486,\n",
       " 'soon': 487,\n",
       " 'him': 488,\n",
       " 'less': 489,\n",
       " 'charlott': 490,\n",
       " 'switch': 491,\n",
       " 'cool': 492,\n",
       " 'error': 493,\n",
       " 'guess': 494,\n",
       " 'runway': 495,\n",
       " 'around': 496,\n",
       " 'pl': 497,\n",
       " 'facewithtearsofjoy': 498,\n",
       " 'termin': 499,\n",
       " 'weve': 500,\n",
       " 'commun': 501,\n",
       " 'idea': 502,\n",
       " 'numbermin': 503,\n",
       " 'longer': 504,\n",
       " 'drop': 505,\n",
       " 'second': 506,\n",
       " 'bring': 507,\n",
       " 'wors': 508,\n",
       " 'place': 509,\n",
       " 'few': 510,\n",
       " 'lack': 511,\n",
       " 'ua': 512,\n",
       " 'dure': 513,\n",
       " 'checkin': 514,\n",
       " 'newark': 515,\n",
       " 'comput': 516,\n",
       " 'given': 517,\n",
       " 'believ': 518,\n",
       " 'citi': 519,\n",
       " 's': 520,\n",
       " 'real': 521,\n",
       " 'iad': 522,\n",
       " 'watch': 523,\n",
       " 'own': 524,\n",
       " 'els': 525,\n",
       " 'plu': 526,\n",
       " 'reach': 527,\n",
       " 'bnumber': 528,\n",
       " 'such': 529,\n",
       " 'process': 530,\n",
       " 'dc': 531,\n",
       " 'rout': 532,\n",
       " 'drive': 533,\n",
       " 'room': 534,\n",
       " 'deliv': 535,\n",
       " 'disconnect': 536,\n",
       " 'live': 537,\n",
       " 'heard': 538,\n",
       " 'hard': 539,\n",
       " 'load': 540,\n",
       " 'life': 541,\n",
       " 'close': 542,\n",
       " 'head': 543,\n",
       " 'youv': 544,\n",
       " 'cust': 545,\n",
       " 'thru': 546,\n",
       " 'origin': 547,\n",
       " 'figur': 548,\n",
       " 'phx': 549,\n",
       " 'carri': 550,\n",
       " 'human': 551,\n",
       " 'share': 552,\n",
       " 'purchas': 553,\n",
       " 'thought': 554,\n",
       " 'address': 555,\n",
       " 'accept': 556,\n",
       " 'houston': 557,\n",
       " 'usairway': 558,\n",
       " 'fare': 559,\n",
       " 'sat': 560,\n",
       " 'total': 561,\n",
       " 'buy': 562,\n",
       " 'turn': 563,\n",
       " 'wast': 564,\n",
       " 'sleep': 565,\n",
       " 'mainten': 566,\n",
       " 'everyth': 567,\n",
       " 'absolut': 568,\n",
       " 'joke': 569,\n",
       " 'fll': 570,\n",
       " 'jet': 571,\n",
       " 'leg': 572,\n",
       " 'wouldnt': 573,\n",
       " 'reflight': 574,\n",
       " 'philli': 575,\n",
       " 'swa': 576,\n",
       " 'monday': 577,\n",
       " 'lga': 578,\n",
       " 'quick': 579,\n",
       " 'glad': 580,\n",
       " 'announc': 581,\n",
       " 'group': 582,\n",
       " 'miami': 583,\n",
       " 'forward': 584,\n",
       " 'standbi': 585,\n",
       " 'cannot': 586,\n",
       " 'lol': 587,\n",
       " 'numbernd': 588,\n",
       " 'worri': 589,\n",
       " 'award': 590,\n",
       " 'loyal': 591,\n",
       " 'form': 592,\n",
       " 'lie': 593,\n",
       " 'arent': 594,\n",
       " 'oper': 595,\n",
       " 'club': 596,\n",
       " 'world': 597,\n",
       " 'manag': 598,\n",
       " 'each': 599,\n",
       " 'word': 600,\n",
       " 'resolv': 601,\n",
       " 'screw': 602,\n",
       " 'locat': 603,\n",
       " 'hate': 604,\n",
       " 'flyer': 605,\n",
       " 'rock': 606,\n",
       " 'tv': 607,\n",
       " 'fuck': 608,\n",
       " 'refus': 609,\n",
       " 'continu': 610,\n",
       " 'entir': 611,\n",
       " 'usair': 612,\n",
       " 'file': 613,\n",
       " 'empti': 614,\n",
       " 'ceo': 615,\n",
       " 'explain': 616,\n",
       " 'iah': 617,\n",
       " 'record': 618,\n",
       " 'unitedairlin': 619,\n",
       " 'spent': 620,\n",
       " 'date': 621,\n",
       " 'sw': 622,\n",
       " 'flew': 623,\n",
       " 'hand': 624,\n",
       " 'correct': 625,\n",
       " 'train': 626,\n",
       " 'ruin': 627,\n",
       " 'case': 628,\n",
       " 'theyr': 629,\n",
       " 'counter': 630,\n",
       " 'list': 631,\n",
       " 'sunday': 632,\n",
       " 're': 633,\n",
       " 'blue': 634,\n",
       " 'mess': 635,\n",
       " 'support': 636,\n",
       " 'ad': 637,\n",
       " 'wish': 638,\n",
       " 'bought': 639,\n",
       " 'loudlycryingfac': 640,\n",
       " 'between': 641,\n",
       " 'taken': 642,\n",
       " 'read': 643,\n",
       " 'relat': 644,\n",
       " 'pretti': 645,\n",
       " 'concern': 646,\n",
       " 'inconveni': 647,\n",
       " 'forc': 648,\n",
       " 'whole': 649,\n",
       " 'supervisor': 650,\n",
       " 'numberk': 651,\n",
       " 'den': 652,\n",
       " 'either': 653,\n",
       " 'thumbsup': 654,\n",
       " 'wow': 655,\n",
       " 'asap': 656,\n",
       " 'yeah': 657,\n",
       " 'spend': 658,\n",
       " 'sever': 659,\n",
       " 'delta': 660,\n",
       " 'fault': 661,\n",
       " 'companion': 662,\n",
       " 'beyond': 663,\n",
       " 'appar': 664,\n",
       " 'access': 665,\n",
       " 'report': 666,\n",
       " 'wtf': 667,\n",
       " 'detail': 668,\n",
       " 'rather': 669,\n",
       " 'kind': 670,\n",
       " 'super': 671,\n",
       " 'under': 672,\n",
       " 'cabin': 673,\n",
       " 'promis': 674,\n",
       " 'futur': 675,\n",
       " 'bwi': 676,\n",
       " 'situat': 677,\n",
       " 'nashvil': 678,\n",
       " 'autom': 679,\n",
       " 'post': 680,\n",
       " 'sign': 681,\n",
       " 'fine': 682,\n",
       " 'high': 683,\n",
       " 'drink': 684,\n",
       " 'shouldnt': 685,\n",
       " 'set': 686,\n",
       " 'learn': 687,\n",
       " 'storm': 688,\n",
       " 'extrem': 689,\n",
       " 'suggest': 690,\n",
       " 'inflight': 691,\n",
       " 'meet': 692,\n",
       " 'customerservic': 693,\n",
       " 'sad': 694,\n",
       " 'easi': 695,\n",
       " 'safeti': 696,\n",
       " 'readi': 697,\n",
       " 'transfer': 698,\n",
       " 'upset': 699,\n",
       " 'cloth': 700,\n",
       " 'okay': 701,\n",
       " 'door': 702,\n",
       " 'tuesday': 703,\n",
       " 'cross': 704,\n",
       " 'layov': 705,\n",
       " 'flown': 706,\n",
       " 'tsa': 707,\n",
       " 'probabl': 708,\n",
       " 'anumb': 709,\n",
       " 'part': 710,\n",
       " 'atl': 711,\n",
       " 'top': 712,\n",
       " 'pm': 713,\n",
       " 'safe': 714,\n",
       " 'select': 715,\n",
       " 'expir': 716,\n",
       " 'atlanta': 717,\n",
       " 'media': 718,\n",
       " 'prioriti': 719,\n",
       " 'space': 720,\n",
       " 'submit': 721,\n",
       " 'bump': 722,\n",
       " 'orlando': 723,\n",
       " 'platinum': 724,\n",
       " 'unfortun': 725,\n",
       " 'weekend': 726,\n",
       " 'fill': 727,\n",
       " 'note': 728,\n",
       " 'fact': 729,\n",
       " 'huge': 730,\n",
       " 'crazi': 731,\n",
       " 'except': 732,\n",
       " 'troubl': 733,\n",
       " 'r': 734,\n",
       " 'husband': 735,\n",
       " 'shit': 736,\n",
       " 'luck': 737,\n",
       " 'zero': 738,\n",
       " 'loung': 739,\n",
       " 'wed': 740,\n",
       " 'state': 741,\n",
       " 'must': 742,\n",
       " 'mco': 743,\n",
       " 'middl': 744,\n",
       " 'gt': 745,\n",
       " 'austin': 746,\n",
       " 'luv': 747,\n",
       " 'notic': 748,\n",
       " 'gonna': 749,\n",
       " 'fun': 750,\n",
       " 'yr': 751,\n",
       " 'accommod': 752,\n",
       " 'control': 753,\n",
       " 'seen': 754,\n",
       " 'water': 755,\n",
       " 'poutingfac': 756,\n",
       " 'impress': 757,\n",
       " 'mobil': 758,\n",
       " 'reimburs': 759,\n",
       " 'came': 760,\n",
       " 'despit': 761,\n",
       " 'save': 762,\n",
       " 'serv': 763,\n",
       " 'daughter': 764,\n",
       " 'mom': 765,\n",
       " 'winter': 766,\n",
       " 'enjoy': 767,\n",
       " 'matter': 768,\n",
       " 'consid': 769,\n",
       " 'offic': 770,\n",
       " 'myself': 771,\n",
       " 'wall': 772,\n",
       " 'entertain': 773,\n",
       " 'countri': 774,\n",
       " 'cold': 775,\n",
       " 'cryingfac': 776,\n",
       " 'numbera': 777,\n",
       " 'notif': 778,\n",
       " 'spoke': 779,\n",
       " 'numberrd': 780,\n",
       " 'tix': 781,\n",
       " 'ppl': 782,\n",
       " 'aircraft': 783,\n",
       " 'listen': 784,\n",
       " 'usual': 785,\n",
       " 'front': 786,\n",
       " 'unabl': 787,\n",
       " 'incompet': 788,\n",
       " 'multipl': 789,\n",
       " 'sens': 790,\n",
       " 'meal': 791,\n",
       " 'attitud': 792,\n",
       " 'letter': 793,\n",
       " 'dividend': 794,\n",
       " 'redheart': 795,\n",
       " 'prefer': 796,\n",
       " 'page': 797,\n",
       " 'track': 798,\n",
       " 'secur': 799,\n",
       " 'folk': 800,\n",
       " 'choic': 801,\n",
       " 'gold': 802,\n",
       " 'item': 803,\n",
       " 'stand': 804,\n",
       " 'knew': 805,\n",
       " 'goe': 806,\n",
       " 'excus': 807,\n",
       " 'held': 808,\n",
       " 'tag': 809,\n",
       " 'rdu': 810,\n",
       " 'notifi': 811,\n",
       " 'hello': 812,\n",
       " 'non': 813,\n",
       " 'birthday': 814,\n",
       " 'feb': 815,\n",
       " 'step': 816,\n",
       " 'four': 817,\n",
       " 'friday': 818,\n",
       " 'afternoon': 819,\n",
       " 'excel': 820,\n",
       " 'overnight': 821,\n",
       " 'babi': 822,\n",
       " 'kudo': 823,\n",
       " 'catch': 824,\n",
       " 'cover': 825,\n",
       " 'hasnt': 826,\n",
       " 'true': 827,\n",
       " 'program': 828,\n",
       " 'appli': 829,\n",
       " 'news': 830,\n",
       " 'win': 831,\n",
       " 'smilingfacewithsmilingey': 832,\n",
       " 'code': 833,\n",
       " 'text': 834,\n",
       " 'area': 835,\n",
       " 'sort': 836,\n",
       " 'ice': 837,\n",
       " 'itinerari': 838,\n",
       " 'rate': 839,\n",
       " 'cours': 840,\n",
       " 'child': 841,\n",
       " 'mine': 842,\n",
       " 'tire': 843,\n",
       " 'liter': 844,\n",
       " 'assign': 845,\n",
       " 'b': 846,\n",
       " 'surpris': 847,\n",
       " 'social': 848,\n",
       " 'virgin': 849,\n",
       " 'ladi': 850,\n",
       " 'ride': 851,\n",
       " 'anyway': 852,\n",
       " 'friendli': 853,\n",
       " 'nonstop': 854,\n",
       " 'hire': 855,\n",
       " 'definit': 856,\n",
       " 'includ': 857,\n",
       " 'ny': 858,\n",
       " 'clappinghand': 859,\n",
       " 'sound': 860,\n",
       " 'window': 861,\n",
       " 'order': 862,\n",
       " 'round': 863,\n",
       " 'mileag': 864,\n",
       " 'pull': 865,\n",
       " 'man': 866,\n",
       " 'saw': 867,\n",
       " 'overhead': 868,\n",
       " 'son': 869,\n",
       " 'nope': 870,\n",
       " 'blame': 871,\n",
       " 'cut': 872,\n",
       " 'worth': 873,\n",
       " 'explan': 874,\n",
       " 'push': 875,\n",
       " 'haha': 876,\n",
       " 'plz': 877,\n",
       " 'saturday': 878,\n",
       " 'repres': 879,\n",
       " 'passbook': 880,\n",
       " 'bit': 881,\n",
       " 'stori': 882,\n",
       " 'small': 883,\n",
       " 'incred': 884,\n",
       " 'short': 885,\n",
       " 'wo': 886,\n",
       " 'anymor': 887,\n",
       " 'anywher': 888,\n",
       " 'mistak': 889,\n",
       " 'attempt': 890,\n",
       " 'feedback': 891,\n",
       " 'neveragain': 892,\n",
       " 'fl': 893,\n",
       " 'mia': 894,\n",
       " 'excit': 895,\n",
       " 'mind': 896,\n",
       " 'kept': 897,\n",
       " 'shame': 898,\n",
       " 'web': 899,\n",
       " 'americanairlin': 900,\n",
       " 'mention': 901,\n",
       " 'behind': 902,\n",
       " 'earn': 903,\n",
       " 'exist': 904,\n",
       " 'regard': 905,\n",
       " 'honor': 906,\n",
       " 'premier': 907,\n",
       " 'phoenix': 908,\n",
       " 'failur': 909,\n",
       " 'howev': 910,\n",
       " 'clear': 911,\n",
       " 'usairwaysfail': 912,\n",
       " 'clean': 913,\n",
       " 'rerout': 914,\n",
       " 'bna': 915,\n",
       " 'volum': 916,\n",
       " 'usnumb': 917,\n",
       " 'reward': 918,\n",
       " 'gone': 919,\n",
       " 'enter': 920,\n",
       " 'takeoff': 921,\n",
       " 'view': 922,\n",
       " 'video': 923,\n",
       " 'center': 924,\n",
       " 'march': 925,\n",
       " 'frequent': 926,\n",
       " 'receipt': 927,\n",
       " 'requir': 928,\n",
       " 'svc': 929,\n",
       " 'bother': 930,\n",
       " 'advisori': 931,\n",
       " 'flightat': 932,\n",
       " 'play': 933,\n",
       " 'merger': 934,\n",
       " 'choos': 935,\n",
       " 'disgust': 936,\n",
       " 'funer': 937,\n",
       " 'cnumber': 938,\n",
       " 'warm': 939,\n",
       " 'oscar': 940,\n",
       " 'damag': 941,\n",
       " 'special': 942,\n",
       " 'stuff': 943,\n",
       " 'bank': 944,\n",
       " 'deserv': 945,\n",
       " 'domest': 946,\n",
       " 'touch': 947,\n",
       " 'break': 948,\n",
       " 'equip': 949,\n",
       " 'intl': 950,\n",
       " 'unhelp': 951,\n",
       " 'finger': 952,\n",
       " 'flightd': 953,\n",
       " 'conf': 954,\n",
       " 'captain': 955,\n",
       " 'n': 956,\n",
       " 'cs': 957,\n",
       " 'deni': 958,\n",
       " 'power': 959,\n",
       " 'fan': 960,\n",
       " 'offici': 961,\n",
       " 'cater': 962,\n",
       " 'numberx': 963,\n",
       " 'dragon': 964,\n",
       " 'expens': 965,\n",
       " 'btw': 966,\n",
       " 'useless': 967,\n",
       " 'button': 968,\n",
       " 'uk': 969,\n",
       " 'experienc': 970,\n",
       " 'ignor': 971,\n",
       " 'bs': 972,\n",
       " 'fair': 973,\n",
       " 'singl': 974,\n",
       " 'sell': 975,\n",
       " 'hell': 976,\n",
       " 'deplan': 977,\n",
       " 'none': 978,\n",
       " 'parti': 979,\n",
       " 'sky': 980,\n",
       " 'improv': 981,\n",
       " 'slow': 982,\n",
       " 'mexico': 983,\n",
       " 'philadelphia': 984,\n",
       " 'avgeek': 985,\n",
       " 'addit': 986,\n",
       " 'werent': 987,\n",
       " 'complain': 988,\n",
       " 'youll': 989,\n",
       " 'appear': 990,\n",
       " 'unhappi': 991,\n",
       " 'major': 992,\n",
       " 'flightnumb': 993,\n",
       " 'unbeliev': 994,\n",
       " 'corpor': 995,\n",
       " 'tmrw': 996,\n",
       " 'snack': 997,\n",
       " 'face': 998,\n",
       " 'stress': 999,\n",
       " 'begin': 1000,\n",
       " ...}"
      ]
     },
     "execution_count": 20,
     "metadata": {},
     "output_type": "execute_result"
    }
   ],
   "source": [
    "word_index"
   ]
  },
  {
   "cell_type": "code",
   "execution_count": 21,
   "metadata": {
    "colab": {
     "base_uri": "https://localhost:8080/"
    },
    "id": "KYQg3IzwO7Rw",
    "outputId": "20bfdc0d-499b-494c-beb7-11bdc4189cd9"
   },
   "outputs": [
    {
     "data": {
      "text/plain": [
       "array([[  49,    2,  218, ...,    0,    0,    0],\n",
       "       [   5,  191,  102, ...,    0,    0,    0],\n",
       "       [  15,  138, 2841, ...,    0,    0,    0],\n",
       "       ...,\n",
       "       [  76,  507,  435, ...,    0,    0,    0],\n",
       "       [   8,   19,   12, ...,    0,    0,    0],\n",
       "       [  37,   19,    4, ...,    0,    0,    0]])"
      ]
     },
     "execution_count": 21,
     "metadata": {},
     "output_type": "execute_result"
    }
   ],
   "source": [
    "model_inputs"
   ]
  },
  {
   "cell_type": "code",
   "execution_count": 22,
   "metadata": {
    "colab": {
     "base_uri": "https://localhost:8080/"
    },
    "id": "RaaGwcrmPGZ0",
    "outputId": "184c35b7-eea9-434a-eb10-69fb193fd36b"
   },
   "outputs": [
    {
     "data": {
      "text/plain": [
       "(14402, 90)"
      ]
     },
     "execution_count": 22,
     "metadata": {},
     "output_type": "execute_result"
    }
   ],
   "source": [
    "model_inputs.shape"
   ]
  },
  {
   "cell_type": "code",
   "execution_count": 23,
   "metadata": {
    "id": "WOGIN8pyPKBN"
   },
   "outputs": [],
   "source": [
    "X_train, X_test, y_train, y_test = train_test_split(model_inputs, labels, train_size=0.7, random_state=22)"
   ]
  },
  {
   "cell_type": "code",
   "execution_count": 24,
   "metadata": {
    "colab": {
     "base_uri": "https://localhost:8080/",
     "height": 564
    },
    "id": "MxHMMApBPXqk",
    "outputId": "b3405dc4-095e-462c-ada1-52c9612982dc"
   },
   "outputs": [
    {
     "name": "stdout",
     "output_type": "stream",
     "text": [
      "('You must install pydot (`pip install pydot`) and install graphviz (see instructions at https://graphviz.gitlab.io/download/) ', 'for plot_model/model_to_dot to work.')\n"
     ]
    }
   ],
   "source": [
    "embedding_dim = 32\n",
    "\n",
    "\n",
    "inputs = tf.keras.Input(shape=(max_seq_length,))\n",
    "\n",
    "embedding = tf.keras.layers.Embedding(\n",
    "    input_dim=vocab_length,\n",
    "    output_dim=embedding_dim,\n",
    "    input_length=max_seq_length\n",
    ")(inputs)\n",
    "\n",
    "# Model A (just a Flatten layer)\n",
    "flatten = tf.keras.layers.Flatten()(embedding)\n",
    "\n",
    "# Model B (GRU with a Flatten layer)\n",
    "gru = tf.keras.layers.GRU(units=embedding_dim)(embedding)\n",
    "gru_flatten = tf.keras.layers.Flatten()(gru)\n",
    "\n",
    "# Both A and B are fed into the output\n",
    "concat = tf.keras.layers.concatenate([flatten, gru_flatten])\n",
    "\n",
    "outputs = tf.keras.layers.Dense(3, activation='softmax')(concat)\n",
    "model = tf.keras.Model(inputs, outputs)\n",
    "\n",
    "tf.keras.utils.plot_model(model)"
   ]
  },
  {
   "cell_type": "code",
   "execution_count": 25,
   "metadata": {
    "id": "7LDkUEjCPhuT"
   },
   "outputs": [],
   "source": [
    "model.compile(\n",
    "    optimizer='adam',\n",
    "    loss='sparse_categorical_crossentropy',\n",
    "    metrics=['accuracy']\n",
    ")"
   ]
  },
  {
   "cell_type": "code",
   "execution_count": 26,
   "metadata": {
    "colab": {
     "base_uri": "https://localhost:8080/"
    },
    "id": "WLw6CtBaPl-P",
    "outputId": "f32d362a-d37a-47c6-e67e-d52c640cf418"
   },
   "outputs": [
    {
     "name": "stdout",
     "output_type": "stream",
     "text": [
      "Epoch 1/100\n",
      "252/252 [==============================] - 13s 33ms/step - loss: 0.7824 - accuracy: 0.6729 - val_loss: 0.6592 - val_accuracy: 0.7313 - lr: 0.0010\n",
      "Epoch 2/100\n",
      "252/252 [==============================] - 5s 19ms/step - loss: 0.5194 - accuracy: 0.7985 - val_loss: 0.5493 - val_accuracy: 0.7759 - lr: 0.0010\n",
      "Epoch 3/100\n",
      "252/252 [==============================] - 5s 18ms/step - loss: 0.3717 - accuracy: 0.8658 - val_loss: 0.5070 - val_accuracy: 0.7982 - lr: 0.0010\n",
      "Epoch 4/100\n",
      "252/252 [==============================] - 4s 18ms/step - loss: 0.2770 - accuracy: 0.9092 - val_loss: 0.5074 - val_accuracy: 0.8012 - lr: 0.0010\n",
      "Epoch 5/100\n",
      "252/252 [==============================] - 4s 17ms/step - loss: 0.2090 - accuracy: 0.9358 - val_loss: 0.5136 - val_accuracy: 0.8022 - lr: 0.0010\n",
      "Epoch 6/100\n",
      "251/252 [============================>.] - ETA: 0s - loss: 0.1579 - accuracy: 0.9553Restoring model weights from the end of the best epoch: 3.\n",
      "252/252 [==============================] - 4s 17ms/step - loss: 0.1579 - accuracy: 0.9552 - val_loss: 0.5320 - val_accuracy: 0.8002 - lr: 0.0010\n",
      "Epoch 00006: early stopping\n"
     ]
    }
   ],
   "source": [
    "batch_size = 32\n",
    "epochs = 100\n",
    "\n",
    "history = model.fit(\n",
    "    X_train,\n",
    "    y_train,\n",
    "    validation_split=0.2,\n",
    "    batch_size=batch_size,\n",
    "    epochs=epochs,\n",
    "    callbacks=[\n",
    "        tf.keras.callbacks.EarlyStopping(\n",
    "            monitor='val_loss',\n",
    "            patience=3,\n",
    "            restore_best_weights=True,\n",
    "            verbose=1\n",
    "        ),\n",
    "        tf.keras.callbacks.ReduceLROnPlateau()\n",
    "    ]\n",
    ")"
   ]
  },
  {
   "cell_type": "code",
   "execution_count": 27,
   "metadata": {
    "colab": {
     "base_uri": "https://localhost:8080/"
    },
    "id": "0FoFEySfP517",
    "outputId": "da489236-2af9-4a42-a0a6-2b59a0f08ccf"
   },
   "outputs": [
    {
     "name": "stdout",
     "output_type": "stream",
     "text": [
      "136/136 [==============================] - 2s 11ms/step - loss: 0.4923 - accuracy: 0.8012\n"
     ]
    },
    {
     "data": {
      "text/plain": [
       "[0.4923320412635803, 0.8012034296989441]"
      ]
     },
     "execution_count": 27,
     "metadata": {},
     "output_type": "execute_result"
    }
   ],
   "source": [
    "model.evaluate(X_test, y_test)"
   ]
  },
  {
   "cell_type": "code",
   "execution_count": null,
   "metadata": {
    "id": "MNgoO1QnXlh0"
   },
   "outputs": [],
   "source": []
  },
  {
   "cell_type": "code",
   "execution_count": 28,
   "metadata": {
    "colab": {
     "base_uri": "https://localhost:8080/",
     "height": 265
    },
    "id": "MBG_l47GXlvD",
    "outputId": "6af488c9-44b5-4d9a-f763-84bec9b0aae0"
   },
   "outputs": [
    {
     "data": {
      "text/plain": [
       "<AxesSubplot:ylabel='airline'>"
      ]
     },
     "execution_count": 28,
     "metadata": {},
     "output_type": "execute_result"
    },
    {
     "data": {
      "image/png": "[encoded data removed]",
      "text/plain": [
       "<Figure size 432x288 with 1 Axes>"
      ]
     },
     "metadata": {},
     "output_type": "display_data"
    }
   ],
   "source": [
    "airline_tweets.airline.value_counts().plot(kind='pie', autopct='%1.0f%%')"
   ]
  },
  {
   "cell_type": "code",
   "execution_count": 29,
   "metadata": {
    "colab": {
     "base_uri": "https://localhost:8080/",
     "height": 297
    },
    "id": "ORbPXKKPX1UP",
    "outputId": "8ce6819f-2768-46b0-9749-a0ce602e39d7"
   },
   "outputs": [
    {
     "data": {
      "text/plain": [
       "<AxesSubplot:xlabel='airline_sentiment', ylabel='airline_sentiment_confidence'>"
      ]
     },
     "execution_count": 29,
     "metadata": {},
     "output_type": "execute_result"
    },
    {
     "data": {
      "image/png": "[encoded data removed]",
      "text/plain": [
       "<Figure size 432x288 with 1 Axes>"
      ]
     },
     "metadata": {
      "needs_background": "light"
     },
     "output_type": "display_data"
    }
   ],
   "source": [
    "sns.barplot(x='airline_sentiment', y='airline_sentiment_confidence' , data=airline_tweets)"
   ]
  },
  {
   "cell_type": "code",
   "execution_count": 30,
   "metadata": {
    "colab": {
     "base_uri": "https://localhost:8080/",
     "height": 265
    },
    "id": "YaTEH-VwX1iK",
    "outputId": "65e302e5-9aec-4698-b90c-9410a6bc8b14"
   },
   "outputs": [
    {
     "data": {
      "text/plain": [
       "<AxesSubplot:ylabel='airline_sentiment'>"
      ]
     },
     "execution_count": 30,
     "metadata": {},
     "output_type": "execute_result"
    },
    {
     "data": {
      "image/png": "[encoded data removed]",
      "text/plain": [
       "<Figure size 432x288 with 1 Axes>"
      ]
     },
     "metadata": {},
     "output_type": "display_data"
    }
   ],
   "source": [
    "airline_tweets.airline_sentiment.value_counts().plot(kind='pie', autopct='%1.0f%%', colors=[\"red\", \"yellow\", \"green\"])"
   ]
  },
  {
   "cell_type": "code",
   "execution_count": 31,
   "metadata": {
    "colab": {
     "base_uri": "https://localhost:8080/",
     "height": 360
    },
    "id": "27U9dof0YKD-",
    "outputId": "db629021-4111-4cb3-e88b-2045fd7b06ad"
   },
   "outputs": [
    {
     "data": {
      "text/plain": [
       "<AxesSubplot:xlabel='airline'>"
      ]
     },
     "execution_count": 31,
     "metadata": {},
     "output_type": "execute_result"
    },
    {
     "data": {
      "image/png": "[encoded data removed]",
      "text/plain": [
       "<Figure size 432x288 with 1 Axes>"
      ]
     },
     "metadata": {
      "needs_background": "light"
     },
     "output_type": "display_data"
    }
   ],
   "source": [
    "airline_tweets.groupby(['airline', 'airline_sentiment']).size().unstack().plot(kind='bar',stacked= True)"
   ]
  }
 ],
 "metadata": {
  "colab": {
   "name": "Tweets.ipynb",
   "provenance": []
  },
  "kernelspec": {
   "display_name": "Python 3",
   "language": "python",
   "name": "python3"
  },
  "language_info": {
   "codemirror_mode": {
    "name": "ipython",
    "version": 3
   },
   "file_extension": ".py",
   "mimetype": "text/x-python",
   "name": "python",
   "nbconvert_exporter": "python",
   "pygments_lexer": "ipython3",
   "version": "3.8.8"
  }
 },
 "nbformat": 4,
 "nbformat_minor": 1
}
